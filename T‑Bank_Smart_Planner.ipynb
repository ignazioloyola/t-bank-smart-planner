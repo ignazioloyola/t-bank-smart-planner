{
  "nbformat": 4,
  "nbformat_minor": 0,
  "metadata": {
    "colab": {
      "provenance": [],
      "authorship_tag": "ABX9TyP/i815cEojl2b8r0Iir/zR",
      "include_colab_link": true
    },
    "kernelspec": {
      "name": "python3",
      "display_name": "Python 3"
    },
    "language_info": {
      "name": "python"
    }
  },
  "cells": [
    {
      "cell_type": "markdown",
      "metadata": {
        "id": "view-in-github",
        "colab_type": "text"
      },
      "source": [
        "<a href=\"https://colab.research.google.com/github/ignazioloyola/t-bank-smart-planner/blob/main/T%E2%80%91Bank_Smart_Planner.ipynb\" target=\"_parent\"><img src=\"https://colab.research.google.com/assets/colab-badge.svg\" alt=\"Open In Colab\"/></a>"
      ]
    },
    {
      "cell_type": "markdown",
      "source": [
        "# **T-Bank Smart Planner - Project Specification**\n",
        "\n",
        "## Write the “T‑Bank Smart Planner” Project Specification\n",
        "\n",
        "Create a concise, well‑structured specification document (PDF or shared Google Doc) that captures the entire scope of the Smart Planner feature. The document should include: a brief executive summary of the project’s purpose and expected business impact; clearly defined user personas (Casual and Business) with their goals and pain points; a set of user stories grouped by persona, each written in the “As a … I want … so that …” format and accompanied by acceptance criteria; the key quantitative and qualitative success metrics; a short list of non‑functional requirements (usability, performance, security, integration); and a simple state‑transition diagram describing task statuses (New → In Waiting → In Progress → Completed/Cancelled → Archived) plus any optional transitions (e.g., Postponed, Paused). End with a MoSCoW‑style prioritisation table and a brief risk‑mitigation matrix.\n",
        "\n",
        "Follow the company style guide (headings, bullet points, page numbers) and keep the whole specification to **no more than three pages** (excluding optional appendices). After drafting, circulate the document to the Product Owner, UX Lead, and Engineering Lead for a quick review, incorporate their feedback, and then publish the final version as version 1.0 in the project’s shared folder. This concise spec will serve as the single source of truth for design, development, and QA teams to build the Smart Planner feature."
      ],
      "metadata": {
        "id": "wrvWjOhxGNky"
      }
    },
    {
      "cell_type": "markdown",
      "source": [
        "## 1. Project Goal and Effectiveness Assessment\n",
        "\n",
        "**Goal**  \n",
        "Create a convenient task-scheduler within the T-Bank app that helps users plan their tasks while increasing engagement with the bank’s services.\n",
        "\n",
        "**Key Metrics**\n",
        "\n",
        "- *Quantitative*\n",
        "  - Number of active scheduler users  \n",
        "  - Percentage of users who use bank services through the scheduler  \n",
        "  - Revenue growth from service sales  \n",
        "  - Average transaction amount for services purchased via the scheduler  \n",
        "\n",
        "- *Qualitative*\n",
        "  - User satisfaction with the new functionality (surveys, reviews)  \n",
        "  - Level of user engagement (frequency of use, depth of feature utilization)  "
      ],
      "metadata": {
        "id": "as1YvkVQGpPJ"
      }
    },
    {
      "cell_type": "markdown",
      "source": [
        "## 2. User Descriptions\n",
        "\n",
        "**Casual User**\n",
        "\n",
        "- *Objectives*\n",
        "  - Easily schedule everyday tasks (shopping, delivery, entertainment)  \n",
        "  - Receive reminders for tasks  \n",
        "  - Save time and money by using bank services  \n",
        "\n",
        "- *Pain Points*\n",
        "  - Forgetting important tasks  \n",
        "  - Spending too much time organizing activities  \n",
        "  - Unaware of all bank services that could be useful  \n",
        "\n",
        "**Business User (Company Representative)**\n",
        "\n",
        "- *Objectives*\n",
        "  - Schedule tasks for themselves and their team  \n",
        "  - Delegate tasks  \n",
        "  - Track progress of task completion  \n",
        "\n",
        "- *Pain Points*\n",
        "  - Difficulty coordinating tasks across the team  \n",
        "  - Hard to monitor deadlines and responsible persons  \n",
        "  - Need to optimize company expenses  "
      ],
      "metadata": {
        "id": "flk0DjYsGwNh"
      }
    },
    {
      "cell_type": "markdown",
      "source": [
        "## 3. Functional Requirements (User Stories)\n",
        "\n",
        "**Casual User**\n",
        "\n",
        "- “As a user, I want to add, edit, and delete tasks in the scheduler.”  \n",
        "- “As a user, I want to receive reminders for my tasks.”  \n",
        "- “As a user, I want to see a list of available bank services that can fulfill my tasks.”  \n",
        "- “As a user, I want to earn cashback when I use bank services through the scheduler.”  \n",
        "\n",
        "**Business User**\n",
        "\n",
        "- “As a user, I want to create tasks for my team and assign owners.”  \n",
        "- “As a user, I want to track the progress of my team’s tasks.”  \n",
        "- “As a user, I want to receive reports on completed tasks and associated expenses.”  "
      ],
      "metadata": {
        "id": "-wD2KRpRGyw4"
      }
    },
    {
      "cell_type": "markdown",
      "source": [
        "## 4. Non-Functional Requirements\n",
        "\n",
        "- **Usability**: Intuitive interface, easy navigation  \n",
        "- **Performance**: Fast loading and smooth operation of the app  \n",
        "- **Security**: Protection of user data  \n",
        "- **Integration**: Connectivity with other bank services  "
      ],
      "metadata": {
        "id": "Oz9xKTTFG127"
      }
    },
    {
      "cell_type": "markdown",
      "source": [
        "## 5. Business-Process Modeling\n",
        "\n",
        "### Task Status Transition Scheme"
      ],
      "metadata": {
        "id": "4GOi9iQiHBFi"
      }
    },
    {
      "cell_type": "code",
      "source": [
        "# Cell 5 — Status Transition Diagram (robust: Graphviz with NetworkX fallback)\n",
        "\n",
        "# Define the state machine once so both renderers can use it\n",
        "STATUSES = [\n",
        "    \"New\", \"In Waiting\", \"In Progress\", \"Completed\",\n",
        "    \"Cancelled\", \"Archived\", \"Postponed\", \"Paused\"\n",
        "]\n",
        "\n",
        "# Solid (standard) transitions\n",
        "EDGES = [\n",
        "    (\"New\", \"In Waiting\"),\n",
        "    (\"In Waiting\", \"In Progress\"),\n",
        "    (\"In Progress\", \"Completed\"),\n",
        "    (\"In Progress\", \"Cancelled\"),\n",
        "    (\"Completed\", \"Archived\"),\n",
        "    (\"Cancelled\", \"Archived\"),\n",
        "]\n",
        "\n",
        "# Dashed (optional) transitions\n",
        "OPTIONAL_EDGES = [\n",
        "    (\"In Waiting\", \"Postponed\"),  # user defers before start\n",
        "    (\"In Progress\", \"Paused\"),    # user temporarily halts execution\n",
        "]\n",
        "\n",
        "def render_with_graphviz():\n",
        "    from graphviz import Digraph\n",
        "    from IPython.display import display\n",
        "\n",
        "    dot = Digraph(format=\"png\")\n",
        "    dot.attr(rankdir=\"LR\", concentrate=\"true\", nodesep=\"0.4\", ranksep=\"0.6\")\n",
        "\n",
        "    node_style = {\n",
        "        \"shape\": \"box\",\n",
        "        \"style\": \"rounded,filled\",\n",
        "        \"fillcolor\": \"#f3f4f6\",\n",
        "        \"color\": \"#9ca3af\",\n",
        "        \"fontname\": \"Helvetica\"\n",
        "    }\n",
        "\n",
        "    for s in STATUSES:\n",
        "        dot.node(s, s, **node_style)\n",
        "\n",
        "    for a, b in EDGES:\n",
        "        dot.edge(a, b, color=\"#6b7280\", penwidth=\"1.6\")\n",
        "\n",
        "    for a, b in OPTIONAL_EDGES:\n",
        "        dot.edge(a, b, color=\"#6b7280\", style=\"dashed\")\n",
        "\n",
        "    display(dot)\n",
        "\n",
        "def render_with_networkx():\n",
        "    import networkx as nx\n",
        "    import matplotlib.pyplot as plt\n",
        "\n",
        "    G = nx.DiGraph()\n",
        "    G.add_nodes_from(STATUSES)\n",
        "    G.add_edges_from(EDGES)\n",
        "    G.add_edges_from(OPTIONAL_EDGES)\n",
        "\n",
        "    # Layout & styling\n",
        "    pos = nx.spring_layout(G, seed=42, k=1.2)\n",
        "    plt.figure(figsize=(10, 6))\n",
        "    nx.draw_networkx_nodes(G, pos, node_size=2000, node_color=\"#f3f4f6\", edgecolors=\"#9ca3af\")\n",
        "    nx.draw_networkx_labels(G, pos, font_size=10)\n",
        "    # Solid edges\n",
        "    nx.draw_networkx_edges(G, pos, edgelist=EDGES, width=1.6, edge_color=\"#6b7280\", arrows=True, arrowsize=15)\n",
        "    # Dashed edges\n",
        "    nx.draw_networkx_edges(G, pos, edgelist=OPTIONAL_EDGES, width=1.2, style=\"dashed\", edge_color=\"#6b7280\", arrows=True, arrowsize=15)\n",
        "    plt.title(\"Task Status Transitions (fallback renderer)\")\n",
        "    plt.axis(\"off\")\n",
        "    plt.tight_layout()\n",
        "    plt.show()\n",
        "\n",
        "# Try Graphviz; fallback gracefully if it's not installed or dot isn't available\n",
        "try:\n",
        "    render_with_graphviz()\n",
        "except Exception as e:\n",
        "    print(\"Graphviz rendering unavailable, using NetworkX fallback.\\nReason:\", e)\n",
        "    render_with_networkx()\n"
      ],
      "metadata": {
        "colab": {
          "base_uri": "https://localhost:8080/",
          "height": 253
        },
        "id": "rwOaRmZ4HwsA",
        "outputId": "d235a006-6515-4996-b502-813d91448648"
      },
      "execution_count": null,
      "outputs": [
        {
          "output_type": "display_data",
          "data": {
            "image/svg+xml": "<?xml version=\"1.0\" encoding=\"UTF-8\" standalone=\"no\"?>\n<!DOCTYPE svg PUBLIC \"-//W3C//DTD SVG 1.1//EN\"\n \"http://www.w3.org/Graphics/SVG/1.1/DTD/svg11.dtd\">\n<!-- Generated by graphviz version 2.43.0 (0)\n -->\n<!-- Title: %3 Pages: 1 -->\n<svg width=\"549pt\" height=\"174pt\"\n viewBox=\"0.00 0.00 549.00 174.00\" xmlns=\"http://www.w3.org/2000/svg\" xmlns:xlink=\"http://www.w3.org/1999/xlink\">\n<g id=\"graph0\" class=\"graph\" transform=\"scale(1 1) rotate(0) translate(4 170)\">\n<title>%3</title>\n<polygon fill=\"white\" stroke=\"transparent\" points=\"-4,4 -4,-170 545,-170 545,4 -4,4\"/>\n<!-- New -->\n<g id=\"node1\" class=\"node\">\n<title>New</title>\n<path fill=\"#f3f4f6\" stroke=\"#9ca3af\" d=\"M42,-68C42,-68 12,-68 12,-68 6,-68 0,-62 0,-56 0,-56 0,-44 0,-44 0,-38 6,-32 12,-32 12,-32 42,-32 42,-32 48,-32 54,-38 54,-44 54,-44 54,-56 54,-56 54,-62 48,-68 42,-68\"/>\n<text text-anchor=\"middle\" x=\"27\" y=\"-46.3\" font-family=\"Helvetica,sans-Serif\" font-size=\"14.00\">New</text>\n</g>\n<!-- In Waiting -->\n<g id=\"node2\" class=\"node\">\n<title>In Waiting</title>\n<path fill=\"#f3f4f6\" stroke=\"#9ca3af\" d=\"M162,-68C162,-68 109,-68 109,-68 103,-68 97,-62 97,-56 97,-56 97,-44 97,-44 97,-38 103,-32 109,-32 109,-32 162,-32 162,-32 168,-32 174,-38 174,-44 174,-44 174,-56 174,-56 174,-62 168,-68 162,-68\"/>\n<text text-anchor=\"middle\" x=\"135.5\" y=\"-46.3\" font-family=\"Helvetica,sans-Serif\" font-size=\"14.00\">In Waiting</text>\n</g>\n<!-- New&#45;&gt;In Waiting -->\n<g id=\"edge1\" class=\"edge\">\n<title>New&#45;&gt;In Waiting</title>\n<path fill=\"none\" stroke=\"#6b7280\" stroke-width=\"1.6\" d=\"M54.05,-50C63.86,-50 75.35,-50 86.52,-50\"/>\n<polygon fill=\"#6b7280\" stroke=\"#6b7280\" stroke-width=\"1.6\" points=\"86.64,-53.5 96.64,-50 86.64,-46.5 86.64,-53.5\"/>\n</g>\n<!-- In Progress -->\n<g id=\"node3\" class=\"node\">\n<title>In Progress</title>\n<path fill=\"#f3f4f6\" stroke=\"#9ca3af\" d=\"M291,-101C291,-101 229,-101 229,-101 223,-101 217,-95 217,-89 217,-89 217,-77 217,-77 217,-71 223,-65 229,-65 229,-65 291,-65 291,-65 297,-65 303,-71 303,-77 303,-77 303,-89 303,-89 303,-95 297,-101 291,-101\"/>\n<text text-anchor=\"middle\" x=\"260\" y=\"-79.3\" font-family=\"Helvetica,sans-Serif\" font-size=\"14.00\">In Progress</text>\n</g>\n<!-- In Waiting&#45;&gt;In Progress -->\n<g id=\"edge2\" class=\"edge\">\n<title>In Waiting&#45;&gt;In Progress</title>\n<path fill=\"none\" stroke=\"#6b7280\" stroke-width=\"1.6\" d=\"M174.25,-60.17C184.59,-62.95 195.97,-66.02 206.96,-68.98\"/>\n<polygon fill=\"#6b7280\" stroke=\"#6b7280\" stroke-width=\"1.6\" points=\"206.32,-72.43 216.89,-71.65 208.14,-65.67 206.32,-72.43\"/>\n</g>\n<!-- Postponed -->\n<g id=\"node7\" class=\"node\">\n<title>Postponed</title>\n<path fill=\"#f3f4f6\" stroke=\"#9ca3af\" d=\"M288.5,-36C288.5,-36 231.5,-36 231.5,-36 225.5,-36 219.5,-30 219.5,-24 219.5,-24 219.5,-12 219.5,-12 219.5,-6 225.5,0 231.5,0 231.5,0 288.5,0 288.5,0 294.5,0 300.5,-6 300.5,-12 300.5,-12 300.5,-24 300.5,-24 300.5,-30 294.5,-36 288.5,-36\"/>\n<text text-anchor=\"middle\" x=\"260\" y=\"-14.3\" font-family=\"Helvetica,sans-Serif\" font-size=\"14.00\">Postponed</text>\n</g>\n<!-- In Waiting&#45;&gt;Postponed -->\n<g id=\"edge7\" class=\"edge\">\n<title>In Waiting&#45;&gt;Postponed</title>\n<path fill=\"none\" stroke=\"#6b7280\" stroke-dasharray=\"5,2\" d=\"M174.25,-40.14C185.46,-37.21 197.9,-33.96 209.72,-30.87\"/>\n<polygon fill=\"#6b7280\" stroke=\"#6b7280\" points=\"210.67,-34.24 219.46,-28.33 208.9,-27.47 210.67,-34.24\"/>\n</g>\n<!-- Completed -->\n<g id=\"node4\" class=\"node\">\n<title>Completed</title>\n<path fill=\"#f3f4f6\" stroke=\"#9ca3af\" d=\"M417,-166C417,-166 358,-166 358,-166 352,-166 346,-160 346,-154 346,-154 346,-142 346,-142 346,-136 352,-130 358,-130 358,-130 417,-130 417,-130 423,-130 429,-136 429,-142 429,-142 429,-154 429,-154 429,-160 423,-166 417,-166\"/>\n<text text-anchor=\"middle\" x=\"387.5\" y=\"-144.3\" font-family=\"Helvetica,sans-Serif\" font-size=\"14.00\">Completed</text>\n</g>\n<!-- In Progress&#45;&gt;Completed -->\n<g id=\"edge3\" class=\"edge\">\n<title>In Progress&#45;&gt;Completed</title>\n<path fill=\"none\" stroke=\"#6b7280\" stroke-width=\"1.6\" d=\"M295.96,-101.11C310.37,-108.57 327.24,-117.31 342.48,-125.2\"/>\n<polygon fill=\"#6b7280\" stroke=\"#6b7280\" stroke-width=\"1.6\" points=\"341.24,-128.5 351.73,-129.99 344.46,-122.28 341.24,-128.5\"/>\n</g>\n<!-- Cancelled -->\n<g id=\"node5\" class=\"node\">\n<title>Cancelled</title>\n<path fill=\"#f3f4f6\" stroke=\"#9ca3af\" d=\"M414,-101C414,-101 361,-101 361,-101 355,-101 349,-95 349,-89 349,-89 349,-77 349,-77 349,-71 355,-65 361,-65 361,-65 414,-65 414,-65 420,-65 426,-71 426,-77 426,-77 426,-89 426,-89 426,-95 420,-101 414,-101\"/>\n<text text-anchor=\"middle\" x=\"387.5\" y=\"-79.3\" font-family=\"Helvetica,sans-Serif\" font-size=\"14.00\">Cancelled</text>\n</g>\n<!-- In Progress&#45;&gt;Cancelled -->\n<g id=\"edge4\" class=\"edge\">\n<title>In Progress&#45;&gt;Cancelled</title>\n<path fill=\"none\" stroke=\"#6b7280\" stroke-width=\"1.6\" d=\"M303.14,-83C314.59,-83 327.08,-83 338.82,-83\"/>\n<polygon fill=\"#6b7280\" stroke=\"#6b7280\" stroke-width=\"1.6\" points=\"338.9,-86.5 348.9,-83 338.9,-79.5 338.9,-86.5\"/>\n</g>\n<!-- Paused -->\n<g id=\"node8\" class=\"node\">\n<title>Paused</title>\n<path fill=\"#f3f4f6\" stroke=\"#9ca3af\" d=\"M406.5,-36C406.5,-36 368.5,-36 368.5,-36 362.5,-36 356.5,-30 356.5,-24 356.5,-24 356.5,-12 356.5,-12 356.5,-6 362.5,0 368.5,0 368.5,0 406.5,0 406.5,0 412.5,0 418.5,-6 418.5,-12 418.5,-12 418.5,-24 418.5,-24 418.5,-30 412.5,-36 406.5,-36\"/>\n<text text-anchor=\"middle\" x=\"387.5\" y=\"-14.3\" font-family=\"Helvetica,sans-Serif\" font-size=\"14.00\">Paused</text>\n</g>\n<!-- In Progress&#45;&gt;Paused -->\n<g id=\"edge8\" class=\"edge\">\n<title>In Progress&#45;&gt;Paused</title>\n<path fill=\"none\" stroke=\"#6b7280\" stroke-dasharray=\"5,2\" d=\"M295.96,-64.89C311.84,-56.67 330.71,-46.9 347.09,-38.41\"/>\n<polygon fill=\"#6b7280\" stroke=\"#6b7280\" points=\"349.14,-41.29 356.41,-33.58 345.92,-35.07 349.14,-41.29\"/>\n</g>\n<!-- Archived -->\n<g id=\"node6\" class=\"node\">\n<title>Archived</title>\n<path fill=\"#f3f4f6\" stroke=\"#9ca3af\" d=\"M529,-133C529,-133 484,-133 484,-133 478,-133 472,-127 472,-121 472,-121 472,-109 472,-109 472,-103 478,-97 484,-97 484,-97 529,-97 529,-97 535,-97 541,-103 541,-109 541,-109 541,-121 541,-121 541,-127 535,-133 529,-133\"/>\n<text text-anchor=\"middle\" x=\"506.5\" y=\"-111.3\" font-family=\"Helvetica,sans-Serif\" font-size=\"14.00\">Archived</text>\n</g>\n<!-- Completed&#45;&gt;Archived -->\n<g id=\"edge5\" class=\"edge\">\n<title>Completed&#45;&gt;Archived</title>\n<path fill=\"none\" stroke=\"#6b7280\" stroke-width=\"1.6\" d=\"M429.09,-136.55C439.81,-133.53 451.4,-130.26 462.25,-127.2\"/>\n<polygon fill=\"#6b7280\" stroke=\"#6b7280\" stroke-width=\"1.6\" points=\"463.28,-130.54 471.96,-124.46 461.38,-123.81 463.28,-130.54\"/>\n</g>\n<!-- Cancelled&#45;&gt;Archived -->\n<g id=\"edge6\" class=\"edge\">\n<title>Cancelled&#45;&gt;Archived</title>\n<path fill=\"none\" stroke=\"#6b7280\" stroke-width=\"1.6\" d=\"M426.16,-93.3C437.65,-96.44 450.36,-99.92 462.18,-103.15\"/>\n<polygon fill=\"#6b7280\" stroke=\"#6b7280\" stroke-width=\"1.6\" points=\"461.29,-106.54 471.86,-105.8 463.14,-99.79 461.29,-106.54\"/>\n</g>\n</g>\n</svg>\n",
            "text/plain": [
              "<graphviz.graphs.Digraph at 0x7bff7ee628d0>"
            ]
          },
          "metadata": {}
        }
      ]
    },
    {
      "cell_type": "markdown",
      "source": [
        "### Status Descriptions\n",
        "\n",
        "*   **New:** Task has just been created and not yet scheduled.\n",
        "*   **In Waiting:** Task is scheduled but its execution date/time has not arrived.\n",
        "*   **In Progress:** Task is currently being executed.\n",
        "*   **Completed:** Task has been successfully finished.\n",
        "*   **Cancelled:** Execution was stopped by the user or the system.\n",
        "*   **Archived:** Completed or cancelled tasks are moved here for historical storage.\n",
        "\n",
        "### Optional transitions:\n",
        "\n",
        "*   From **In Waiting** → **Postponed** if the user wants to shift the task.\n",
        "*   From **In Progress** → **Paused** if execution is temporarily halted.\n",
        "\n",
        "\n",
        "\n",
        "\n"
      ],
      "metadata": {
        "id": "3ZZ3hDM3IQCd"
      }
    }
  ]
}